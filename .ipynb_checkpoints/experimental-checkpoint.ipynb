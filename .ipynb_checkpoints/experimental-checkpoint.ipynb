{
 "cells": [
  {
   "cell_type": "code",
   "execution_count": 1,
   "metadata": {},
   "outputs": [],
   "source": [
    "import tweepy\n",
    "import time\n",
    "import sys"
   ]
  },
  {
   "cell_type": "code",
   "execution_count": 2,
   "metadata": {},
   "outputs": [],
   "source": [
    "access_token = '1207281091519942657-BLIIXujqHE29zQMJOZG8tHWl2Amfzk'\n",
    "access_token_secret = 'C8anAX7msu0up1BYq3CK3gP8Hj9rS6wxf8KmAfx2tZbsM'\n",
    "consumer_key = 'x2oOGphmxxhayrn6JTnHJLXzE'\n",
    "consumer_secret = '5jCA4TzqCAKztJbE1NWOAY4dvyeouEyNvho48xtv6lnRr1DoAs'"
   ]
  },
  {
   "cell_type": "code",
   "execution_count": 3,
   "metadata": {},
   "outputs": [],
   "source": [
    "auth = tweepy.OAuthHandler(consumer_key, consumer_secret)\n",
    "auth.set_access_token(access_token, access_token_secret)\n",
    "\n",
    "api = tweepy.API(auth)\n",
    "user = api.me()"
   ]
  },
  {
   "cell_type": "code",
   "execution_count": 6,
   "metadata": {},
   "outputs": [],
   "source": [
    "followers = []\n",
    "\n",
    "for follower in user.followers():\n",
    "    followers.append(follower)"
   ]
  },
  {
   "cell_type": "code",
   "execution_count": 9,
   "metadata": {},
   "outputs": [],
   "source": [
    "followers[0].follow()"
   ]
  },
  {
   "cell_type": "code",
   "execution_count": 12,
   "metadata": {},
   "outputs": [],
   "source": [
    "filename = open(\"messages.txt\", 'r')\n",
    "f = filename.readlines()\n",
    "filename.close()"
   ]
  },
  {
   "cell_type": "code",
   "execution_count": 13,
   "metadata": {},
   "outputs": [
    {
     "name": "stdout",
     "output_type": "stream",
     "text": [
      "[\"I'm a bot, and this is a test.\\n\", 'Only Gritty is above the law!\\n', 'Do I smell bacon?\\n', 'I wish I could vote.  :(\\n', \"'Blue lives' definitely don't exist or matter.\\n\", \"Don't forget to swipe your friends through!\\n\", 'Boy, I love testing.\\n', 'EXTERMINAAAATE!!!\\n', \"I love my new apartment in 'the cloud'.\\n\", \"Nobody is born 'blue'.\\n\", \"Let's reduce crime.\\n\", 'Have you ever jumped the turnstile on the way out?\\n', 'Honor your oath, scumbag!\\n', \"Why don't you shut the fuck up, officer?\\n\", \"You're obstructing my investigation... of the police.\\n\", '1312\\n', 'Who wants to play Portal 2 with me?\\n', '\\n']\n"
     ]
    }
   ],
   "source": [
    "print(f)"
   ]
  },
  {
   "cell_type": "code",
   "execution_count": null,
   "metadata": {},
   "outputs": [],
   "source": []
  }
 ],
 "metadata": {
  "kernelspec": {
   "display_name": "Python 3",
   "language": "python",
   "name": "python3"
  },
  "language_info": {
   "codemirror_mode": {
    "name": "ipython",
    "version": 3
   },
   "file_extension": ".py",
   "mimetype": "text/x-python",
   "name": "python",
   "nbconvert_exporter": "python",
   "pygments_lexer": "ipython3",
   "version": "3.6.9"
  }
 },
 "nbformat": 4,
 "nbformat_minor": 2
}
