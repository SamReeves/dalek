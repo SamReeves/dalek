{
 "cells": [
  {
   "cell_type": "code",
   "execution_count": 82,
   "metadata": {},
   "outputs": [],
   "source": [
    "#!/usr/bin/env python3\n",
    "# -*- coding: utf-8 -*-\n",
    "\n",
    "# This bot was written by Sam Reeves.  For all questions or comments\n",
    "# please email me.  samtreeves@gmail.com\n",
    "\n",
    "import keys\n",
    "\n",
    "import tweepy\n",
    "import time\n",
    "import random\n",
    "import os.path\n",
    "import dill\n",
    "\n",
    "class dalek(object):\n",
    "    \"I am a twitter bot. Create an instance of me with bot = dalek()\"\n",
    "\n",
    "    def __init__(self):\n",
    "        self.auth = tweepy.OAuthHandler(\n",
    "                keys.consumer_key, keys.consumer_secret)\n",
    "        self.auth.set_access_token(\n",
    "                keys.access_token, keys.access_token_secret)\n",
    "\n",
    "        self.api = tweepy.API(self.auth)\n",
    "\n",
    "        if os.path.exists('followers'):\n",
    "            with open('followers', 'rb') as infile:\n",
    "                self.followers = dill.load(infile)\n",
    "                \n",
    "        if os.path.exists('friends'):\n",
    "            with open('friends', 'rb') as infile:\n",
    "                self.friends = dill.load(infile)\n",
    "                \n",
    "        if os.path.exists('DMs'):\n",
    "            with open('DMs', 'rb') as infile:\n",
    "                self.dms = dill.load(infile)\n",
    "                self.most_recent_message = bot.getMessageID(self.dms[0])\n",
    "                \n",
    "        if os.path.exists('users'):\n",
    "            with open('users', 'rb') as infile:\n",
    "                self.users = dill.load(infile)\n",
    "    \n",
    "    def limit_handled(cursor):\n",
    "        while True:\n",
    "            try:\n",
    "                yield cursor.next()\n",
    "            except tweepy.RateLimitError:\n",
    "                time.sleep(15*60)\n",
    "\n",
    "    def updateFollowers(self):\n",
    "        for follower in tweepy.Cursor(self.api.followers).items():\n",
    "            if follower not in self.followers:\n",
    "                self.followers.append(follower)\n",
    "        with open('followers', 'wb') as outfile:\n",
    "            dill.dump(self.followers, outfile)\n",
    "\n",
    "    def followEveryoneBack(self):\n",
    "        for follower in self.followers:\n",
    "            follower.follow()\n",
    "\n",
    "    def updateFriends(self):\n",
    "        for friend in tweepy.Cursor(self.api.friends).items():\n",
    "            if friend not in self.friends:\n",
    "                self.friends.append(friend)\n",
    "        with open('followers', 'wb') as outfile:\n",
    "            dill.dump(self.followers, outfile)\n",
    "\n",
    "    def zombieTweet(self, interval=60, duration=1):\n",
    "        lines = open('messages').read().splitlines()\n",
    "        for i in range(duration):\n",
    "            tweet = random.choice(lines)\n",
    "            print(tweet)\n",
    "            self.api.update_status(status=tweet)\n",
    "            if duration > 1:\n",
    "                time.sleep(interval*duration)\n",
    "\n",
    "    def updateDMs(self):\n",
    "        new_dm_call = self.api.list_direct_messages()\n",
    "        \n",
    "        if hasattr(self, 'dms'):\n",
    "            if not self.most_recent_message == bot.getMessageID(new_dm_call[0]):\n",
    "                unlogged_dms = []\n",
    "                for item in new_dm_call:\n",
    "                    if bot.getMessageID(item) > self.most_recent_message:\n",
    "                        unlogged_dms.append(item)\n",
    "                self.dms[:0] = unlogged_dms\n",
    "        else:\n",
    "            self.dms = new_dm_call\n",
    "        self.most_recent_message = bot.getMessageID(self.dms[0])\n",
    "        with open('DMs', 'wb') as outfile:\n",
    "            dill.dump(self.dms, outfile)\n",
    "\n",
    "    def addUser(self, user_id, admin_status=False):\n",
    "        if not hasattr(self, 'users'):\n",
    "            self.users = [[], []]\n",
    "        self.users[0].append(userid)\n",
    "\n",
    "        if admin_status:\n",
    "            self.users[1].append()\n",
    "\n",
    "        with open('users', 'wb') as outfile:\n",
    "            dill.dump(outfile, self.users)\n",
    "\n",
    "    def subtractUser(self, user_id, wipe=False):\n",
    "        if not hasattr(self, 'users'):\n",
    "            return None\n",
    "\n",
    "        elif user in self.users[1]:\n",
    "            self.users[1].remove(user_id)\n",
    "            if wipe:\n",
    "                self.users[0].remove(user_id)\n",
    "                with open('users', 'wb') as outfile:\n",
    "                    dill.dump(self.users, outfile)\n",
    "\n",
    "        elif user in self.users[0]:\n",
    "            self.users[0].remove(user)\n",
    "        with open('users', 'wb') as outfile:\n",
    "            dill.dump(outfile, self.users)\n",
    "            \n",
    "    def getMessageID(self, message):\n",
    "        return int(message.id)\n",
    "\n",
    "    def getSenderID(self, message):\n",
    "        senderID = message.message_create['sender_id']\n",
    "        return int(senderID)\n",
    "    \n",
    "    def getHashtags(self, message):\n",
    "        tags = []\n",
    "        for tag in message.message_create['message_data']['entities']['hashtags']:\n",
    "            tags.append(tag['text'])\n",
    "        return tags\n",
    "        "
   ]
  },
  {
   "cell_type": "code",
   "execution_count": 83,
   "metadata": {},
   "outputs": [],
   "source": [
    "bot = dalek()"
   ]
  },
  {
   "cell_type": "code",
   "execution_count": 84,
   "metadata": {},
   "outputs": [],
   "source": [
    "bot.updateDMs()"
   ]
  },
  {
   "cell_type": "code",
   "execution_count": 85,
   "metadata": {},
   "outputs": [
    {
     "data": {
      "text/plain": [
       "1166054494343503879"
      ]
     },
     "execution_count": 85,
     "metadata": {},
     "output_type": "execute_result"
    }
   ],
   "source": [
    "bot.getSenderID(bot.dms[0])"
   ]
  },
  {
   "cell_type": "code",
   "execution_count": 86,
   "metadata": {},
   "outputs": [
    {
     "data": {
      "text/plain": [
       "1229869491045257223"
      ]
     },
     "execution_count": 86,
     "metadata": {},
     "output_type": "execute_result"
    }
   ],
   "source": [
    "bot.most_recent_message"
   ]
  },
  {
   "cell_type": "code",
   "execution_count": 87,
   "metadata": {},
   "outputs": [
    {
     "data": {
      "text/plain": [
       "'1229869491045257223'"
      ]
     },
     "execution_count": 87,
     "metadata": {},
     "output_type": "execute_result"
    }
   ],
   "source": [
    "mess = bot.dms[0]\n",
    "mess.id"
   ]
  },
  {
   "cell_type": "code",
   "execution_count": 88,
   "metadata": {},
   "outputs": [
    {
     "data": {
      "text/plain": [
       "{'target': {'recipient_id': '1207281091519942657'},\n",
       " 'sender_id': '1166054494343503879',\n",
       " 'message_data': {'text': 'That’s a #spicy #meatball',\n",
       "  'entities': {'hashtags': [{'text': 'spicy', 'indices': [9, 15]},\n",
       "    {'text': 'meatball', 'indices': [16, 25]}],\n",
       "   'symbols': [],\n",
       "   'user_mentions': [],\n",
       "   'urls': []}}}"
      ]
     },
     "execution_count": 88,
     "metadata": {},
     "output_type": "execute_result"
    }
   ],
   "source": [
    "mess.message_create"
   ]
  },
  {
   "cell_type": "code",
   "execution_count": 89,
   "metadata": {},
   "outputs": [
    {
     "data": {
      "text/plain": [
       "[[1166054494343503879], [1166054494343503879]]"
      ]
     },
     "execution_count": 89,
     "metadata": {},
     "output_type": "execute_result"
    }
   ],
   "source": [
    "bot.users"
   ]
  },
  {
   "cell_type": "code",
   "execution_count": null,
   "metadata": {},
   "outputs": [],
   "source": []
  }
 ],
 "metadata": {
  "kernelspec": {
   "display_name": "Python 3",
   "language": "python",
   "name": "python3"
  },
  "language_info": {
   "codemirror_mode": {
    "name": "ipython",
    "version": 3
   },
   "file_extension": ".py",
   "mimetype": "text/x-python",
   "name": "python",
   "nbconvert_exporter": "python",
   "pygments_lexer": "ipython3",
   "version": "3.6.9"
  }
 },
 "nbformat": 4,
 "nbformat_minor": 2
}
